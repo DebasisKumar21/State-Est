{
 "cells": [
  {
   "cell_type": "code",
   "execution_count": 1,
   "id": "3a9d265b-6d28-4922-962e-60038db48ab6",
   "metadata": {},
   "outputs": [],
   "source": [
    "import torch\n",
    "import torch.nn as nn\n",
    "import torch.optim as optim\n",
    "from torch.utils.data import Dataset, DataLoader\n",
    "from sklearn.model_selection import train_test_split\n",
    "\n",
    "import numpy as np \n",
    "import scipy.io as sio\n",
    "import matplotlib.pyplot as plt \n",
    "import seaborn as sns\n",
    "sns.set_theme()\n",
    "%matplotlib inline\n",
    "\n",
    "torch.manual_seed(42)\n",
    "torch.cuda.manual_seed_all(42)\n",
    "torch.set_default_dtype(torch.float32)"
   ]
  },
  {
   "cell_type": "code",
   "execution_count": 3,
   "id": "df9263ca-3559-45fc-a13d-ebebfda012ee",
   "metadata": {},
   "outputs": [
    {
     "data": {
      "text/plain": [
       "((27434, 2), (27434, 1), -0.006798274760917822, 0.2688761963031729)"
      ]
     },
     "execution_count": 3,
     "metadata": {},
     "output_type": "execute_result"
    }
   ],
   "source": [
    "# Reading the Comp. Matrix - N x (D + y)\n",
    "data = sio.loadmat(\"./Dataset//No_nan_matrix.mat\")[\"training_matrix\"]\n",
    "\n",
    "# Feature Matrix - N x 2 (ax, ay)\n",
    "X = data[:, :-1]\n",
    "\n",
    "# Targets - N \n",
    "y = data[:, -1] #[:, np.newaxis]\n",
    "\n",
    "# Target vdot (N - 1) x 1\n",
    "y = np.diff(y).reshape(-1, 1)\n",
    "\n",
    "# Feature Matrix - (N - 1) x 2\n",
    "X = X[:-1]\n",
    "\n",
    "# Normalization\n",
    "mu = X.mean()\n",
    "sigma = X.std()\n",
    "\n",
    "# Normalized Dataset\n",
    "X_norm = (X - mu) / sigma\n",
    "\n",
    "X_norm.shape, y.shape, mu, sigma"
   ]
  },
  {
   "cell_type": "code",
   "execution_count": 4,
   "id": "da347099-1b98-4e3b-b7ae-4b58cdaa0570",
   "metadata": {},
   "outputs": [
    {
     "data": {
      "text/plain": [
       "((19752, 2), (2195, 2), (5487, 2), (19752, 1), (2195, 1), (5487, 1))"
      ]
     },
     "execution_count": 4,
     "metadata": {},
     "output_type": "execute_result"
    }
   ],
   "source": [
    "X_train, X_test, y_train, y_test = train_test_split(X_norm, y, test_size=0.2, random_state=42)\n",
    "X_train, X_val, y_train, y_val = train_test_split(X_train, y_train, test_size=0.1, random_state=42)\n",
    "\n",
    "X_train.shape, X_val.shape, X_test.shape, y_train.shape, y_val.shape, y_test.shape"
   ]
  },
  {
   "cell_type": "code",
   "execution_count": 5,
   "id": "401614a1-4805-4513-8a86-60c75a1b56c9",
   "metadata": {},
   "outputs": [
    {
     "data": {
      "text/plain": [
       "((19752, 3), (2195, 3), (5487, 3))"
      ]
     },
     "execution_count": 5,
     "metadata": {},
     "output_type": "execute_result"
    }
   ],
   "source": [
    "train_data = np.concatenate((X_train, y_train), axis=1)\n",
    "val_data = np.concatenate((X_val, y_val), axis=1)\n",
    "test_data = np.concatenate((X_test, y_test), axis=1)\n",
    "\n",
    "train_data.shape, val_data.shape, test_data.shape"
   ]
  },
  {
   "cell_type": "code",
   "execution_count": 6,
   "id": "2ed081a9-f7f0-4482-8d08-da77f6dcff9b",
   "metadata": {},
   "outputs": [],
   "source": [
    "np.save(\"./Dataset/train_v.npy\", train_data.astype(np.float32))\n",
    "np.save(\"./Dataset/val_v.npy\", val_data.astype(np.float32))\n",
    "np.save(\"./Dataset/test_v.npy\", test_data.astype(np.float32))"
   ]
  },
  {
   "cell_type": "code",
   "execution_count": 7,
   "id": "f5c32544-9815-48aa-95da-1699c6d05ee6",
   "metadata": {},
   "outputs": [
    {
     "name": "stdout",
     "output_type": "stream",
     "text": [
      "Using cuda device\n"
     ]
    }
   ],
   "source": [
    "device = torch.device(\"cuda\" if torch.cuda.is_available() else \"cpu\")\n",
    "print(f\"Using {device} device\")"
   ]
  },
  {
   "cell_type": "code",
   "execution_count": 8,
   "id": "e418e7c1-7ade-4954-8ca3-8d72b1786a75",
   "metadata": {},
   "outputs": [],
   "source": [
    "# Expressive GRU\n",
    "class ProGRU(nn.Module):\n",
    "    def __init__(self, input_size, hidden_size, output_size):\n",
    "        super(ProGRU, self).__init__()\n",
    "        self.lstm = nn.GRU(input_size=input_size, hidden_size=hidden_size, num_layers=2, bidirectional=True, batch_first=True)\n",
    "        self.linear1 = nn.Linear(hidden_size, hidden_size)\n",
    "        self.linear2 = nn.Linear(hidden_size, hidden_size)\n",
    "        self.linear3 = nn.Linear(hidden_size, output_size)\n",
    "        self.activation = nn.PReLU()\n",
    "    \n",
    "    def forward(self, x):\n",
    "        batch_size = x.shape[0]\n",
    "        out, hn = self.lstm(x.view(batch_size, 1, -1))\n",
    "        out = self.activation(self.linear1(hn[0])) \n",
    "        out = self.activation(self.linear2(out))\n",
    "        out = self.linear3(out)\n",
    "        return out\n",
    "    \n",
    "# Expressive LSTM v2\n",
    "class ProLSTM2(nn.Module):\n",
    "    def __init__(self, input_size, hidden_size, output_size):\n",
    "        super(ProLSTM2, self).__init__()\n",
    "        self.lstm = nn.LSTM(input_size=input_size, hidden_size=hidden_size, num_layers=2, bidirectional=True, batch_first=True)\n",
    "        self.linear1 = nn.Linear(hidden_size, hidden_size) # nn.Linear(hidden_size * 2, hidden_size) for self lstm_out\n",
    "        self.linear2 = nn.Linear(hidden_size, hidden_size)\n",
    "        self.linear3 = nn.Linear(hidden_size, output_size)\n",
    "        self.activation = nn.PReLU()\n",
    "    \n",
    "    def forward(self, x):\n",
    "        batch_size = x.shape[0]\n",
    "        h0 = torch.zeros((4, batch_size, 512), device=device, requires_grad=True)\n",
    "        c0 = torch.zeros((4, batch_size, 512), device=device, requires_grad=True)\n",
    "        out, (hn, cn) = self.lstm(x.view(batch_size, 1, -1), (h0, c0))\n",
    "        out = self.activation(self.linear1(hn[0]))\n",
    "        # out = self.activation(self.linear1(out.view(batch_size, -1))) # self.linear1(hn[0])\n",
    "        out = self.activation(self.linear2(out))\n",
    "        out = self.linear3(out)\n",
    "        return out"
   ]
  },
  {
   "cell_type": "code",
   "execution_count": 10,
   "id": "8e5d54bc-df44-452f-9680-86a2ac5d4393",
   "metadata": {},
   "outputs": [],
   "source": [
    "# Custom Dataset Loader \n",
    "class TrajDataset(Dataset):\n",
    "    \"\"\"Expert Trajectory Dataset.\"\"\"\n",
    "    def __init__(self, data):\n",
    "        \n",
    "        # Inputs\n",
    "        self.x = data[:, :-1]\n",
    "        \n",
    "        # Output\n",
    "        self.y = data[:, -1]\n",
    "        \n",
    "        \n",
    "    def __len__(self):\n",
    "        return len(self.x)\n",
    "    \n",
    "    def __getitem__(self, idx):\n",
    "        \n",
    "        # Inputs\n",
    "        inp = self.x[idx]\n",
    "        inp = inp.flatten()\n",
    "        \n",
    "        # Outputs\n",
    "        out = self.y[idx]\n",
    "        out = out.flatten()\n",
    "        \n",
    "        return torch.tensor(inp).float(), torch.tensor(out).float()\n",
    "\n",
    "# Load the dataset\n",
    "train_data = np.load(\"./Dataset/train_v.npy\")\n",
    "val_data = np.load(\"./Dataset/val_v.npy\")\n",
    "test_data = np.load(\"./Dataset/test_v.npy\")\n",
    "\n",
    "# Using PyTorch Dataloader\n",
    "train_dataset = TrajDataset(train_data)\n",
    "val_dataset = TrajDataset(val_data)\n",
    "test_dataset = TrajDataset(test_data)\n",
    "\n",
    "train_loader = DataLoader(train_dataset, batch_size=64, shuffle=True, num_workers=0)\n",
    "val_loader = DataLoader(val_dataset, batch_size=8, shuffle=True, num_workers=0)\n",
    "test_loader = DataLoader(test_dataset, batch_size=4, shuffle=True, num_workers=0)"
   ]
  },
  {
   "cell_type": "code",
   "execution_count": 11,
   "id": "6279de06-0c1e-4326-ad26-c29441c0b90d",
   "metadata": {},
   "outputs": [
    {
     "name": "stdout",
     "output_type": "stream",
     "text": [
      "torch.Size([64, 2]) torch.Size([64, 1])\n"
     ]
    }
   ],
   "source": [
    "for batch_num, (datas) in enumerate(train_loader):\n",
    "    inp, out = datas\n",
    "    print(inp.shape, out.shape)\n",
    "    break"
   ]
  },
  {
   "cell_type": "code",
   "execution_count": 12,
   "id": "a2cd5897-9283-4948-891a-f841aaf8ffff",
   "metadata": {},
   "outputs": [
    {
     "name": "stdout",
     "output_type": "stream",
     "text": [
      "Epoch: 1, Train Loss: 0.150,  Val Loss: 0.101\n",
      "Epoch: 2, Train Loss: 0.141,  Val Loss: 0.097\n",
      "Epoch: 3, Train Loss: 0.140,  Val Loss: 0.098\n",
      "Epoch: 4, Train Loss: 0.140,  Val Loss: 0.097\n",
      "Epoch: 5, Train Loss: 0.141,  Val Loss: 0.097\n",
      "Epoch: 6, Train Loss: 0.141,  Val Loss: 0.098\n",
      "Epoch: 7, Train Loss: 0.140,  Val Loss: 0.098\n",
      "Epoch: 8, Train Loss: 0.142,  Val Loss: 0.098\n",
      "Epoch: 9, Train Loss: 0.140,  Val Loss: 0.098\n",
      "Epoch: 10, Train Loss: 0.140,  Val Loss: 0.098\n",
      "Epoch: 11, Train Loss: 0.140,  Val Loss: 0.099\n",
      "Epoch: 12, Train Loss: 0.140,  Val Loss: 0.141\n",
      "Epoch: 13, Train Loss: 2.304,  Val Loss: 0.097\n",
      "Epoch: 14, Train Loss: 0.142,  Val Loss: 0.096\n",
      "Epoch: 15, Train Loss: 0.143,  Val Loss: 0.099\n",
      "Epoch: 16, Train Loss: 0.139,  Val Loss: 0.096\n",
      "Epoch: 17, Train Loss: 0.139,  Val Loss: 0.096\n",
      "Epoch: 18, Train Loss: 0.139,  Val Loss: 0.096\n",
      "Epoch: 19, Train Loss: 0.139,  Val Loss: 0.096\n",
      "Epoch: 20, Train Loss: 0.139,  Val Loss: 0.096\n",
      "Epoch: 21, Train Loss: 0.139,  Val Loss: 0.097\n",
      "Epoch: 22, Train Loss: 0.139,  Val Loss: 0.096\n",
      "Epoch: 23, Train Loss: 0.139,  Val Loss: 0.096\n",
      "Epoch: 24, Train Loss: 0.139,  Val Loss: 0.097\n",
      "Epoch: 25, Train Loss: 0.139,  Val Loss: 0.097\n",
      "Epoch: 26, Train Loss: 0.139,  Val Loss: 0.096\n",
      "Epoch: 27, Train Loss: 0.139,  Val Loss: 0.097\n",
      "Epoch: 28, Train Loss: 0.139,  Val Loss: 0.096\n",
      "Epoch: 29, Train Loss: 0.138,  Val Loss: 0.096\n",
      "Epoch: 30, Train Loss: 0.138,  Val Loss: 0.097\n",
      "Epoch: 31, Train Loss: 0.138,  Val Loss: 0.097\n",
      "Epoch: 32, Train Loss: 0.138,  Val Loss: 0.096\n",
      "Epoch: 33, Train Loss: 0.138,  Val Loss: 0.096\n",
      "Epoch: 34, Train Loss: 0.138,  Val Loss: 0.102\n",
      "Epoch: 35, Train Loss: 0.138,  Val Loss: 0.096\n",
      "Epoch: 36, Train Loss: 0.138,  Val Loss: 0.096\n",
      "Epoch: 37, Train Loss: 0.139,  Val Loss: 0.096\n",
      "Epoch: 38, Train Loss: 0.138,  Val Loss: 0.096\n",
      "Epoch: 39, Train Loss: 0.138,  Val Loss: 0.096\n",
      "Epoch: 40, Train Loss: 0.138,  Val Loss: 0.096\n",
      "Epoch: 41, Train Loss: 0.138,  Val Loss: 0.096\n",
      "Epoch: 42, Train Loss: 0.138,  Val Loss: 0.096\n",
      "Epoch: 43, Train Loss: 0.138,  Val Loss: 0.097\n",
      "Epoch: 44, Train Loss: 0.138,  Val Loss: 0.096\n",
      "Epoch: 45, Train Loss: 0.138,  Val Loss: 0.096\n",
      "Epoch: 46, Train Loss: 0.137,  Val Loss: 0.096\n",
      "Epoch: 47, Train Loss: 0.137,  Val Loss: 0.096\n",
      "Epoch: 48, Train Loss: 0.137,  Val Loss: 0.096\n",
      "Epoch: 49, Train Loss: 0.138,  Val Loss: 0.096\n",
      "Epoch: 50, Train Loss: 0.138,  Val Loss: 0.096\n",
      "Epoch: 51, Train Loss: 0.138,  Val Loss: 0.096\n",
      "Epoch: 52, Train Loss: 0.137,  Val Loss: 0.097\n",
      "Epoch: 53, Train Loss: 0.138,  Val Loss: 0.096\n",
      "Epoch: 54, Train Loss: 0.137,  Val Loss: 0.096\n",
      "Epoch: 55, Train Loss: 0.137,  Val Loss: 0.096\n",
      "Epoch: 56, Train Loss: 0.137,  Val Loss: 0.096\n",
      "Epoch: 57, Train Loss: 0.138,  Val Loss: 0.096\n",
      "Epoch: 58, Train Loss: 0.138,  Val Loss: 0.096\n",
      "Epoch: 59, Train Loss: 0.137,  Val Loss: 0.096\n",
      "Epoch: 60, Train Loss: 0.137,  Val Loss: 0.096\n",
      "Epoch: 61, Train Loss: 0.137,  Val Loss: 0.096\n",
      "Epoch: 62, Train Loss: 0.137,  Val Loss: 0.096\n",
      "Epoch: 63, Train Loss: 0.137,  Val Loss: 0.096\n",
      "Epoch: 64, Train Loss: 0.138,  Val Loss: 0.096\n",
      "Epoch: 65, Train Loss: 0.137,  Val Loss: 0.096\n",
      "Epoch: 66, Train Loss: 0.137,  Val Loss: 0.096\n",
      "Epoch: 67, Train Loss: 0.137,  Val Loss: 0.096\n",
      "Epoch: 68, Train Loss: 0.137,  Val Loss: 0.096\n",
      "Epoch: 69, Train Loss: 0.137,  Val Loss: 0.096\n",
      "Epoch: 70, Train Loss: 0.137,  Val Loss: 0.096\n",
      "Epoch: 71, Train Loss: 0.137,  Val Loss: 0.096\n",
      "Epoch: 72, Train Loss: 0.137,  Val Loss: 0.096\n",
      "Epoch: 73, Train Loss: 0.137,  Val Loss: 0.096\n",
      "Epoch: 74, Train Loss: 0.137,  Val Loss: 0.097\n",
      "Epoch: 75, Train Loss: 0.137,  Val Loss: 0.096\n",
      "Epoch: 76, Train Loss: 0.137,  Val Loss: 0.096\n",
      "Epoch: 77, Train Loss: 0.137,  Val Loss: 0.096\n",
      "Epoch: 78, Train Loss: 0.138,  Val Loss: 0.096\n",
      "Epoch: 79, Train Loss: 0.137,  Val Loss: 0.096\n",
      "Epoch: 80, Train Loss: 0.137,  Val Loss: 0.096\n",
      "Epoch: 81, Train Loss: 0.137,  Val Loss: 0.096\n",
      "Epoch: 82, Train Loss: 0.137,  Val Loss: 0.096\n",
      "Epoch: 83, Train Loss: 0.137,  Val Loss: 0.096\n",
      "Epoch: 84, Train Loss: 0.137,  Val Loss: 0.096\n",
      "Epoch: 85, Train Loss: 0.137,  Val Loss: 0.096\n",
      "Epoch: 86, Train Loss: 0.137,  Val Loss: 0.096\n",
      "Epoch: 87, Train Loss: 0.137,  Val Loss: 0.096\n",
      "Epoch: 88, Train Loss: 0.137,  Val Loss: 0.096\n",
      "Epoch: 89, Train Loss: 0.137,  Val Loss: 0.096\n",
      "Epoch: 90, Train Loss: 0.137,  Val Loss: 0.096\n",
      "Epoch: 91, Train Loss: 0.137,  Val Loss: 0.096\n",
      "Epoch: 92, Train Loss: 0.137,  Val Loss: 0.096\n",
      "Epoch: 93, Train Loss: 0.137,  Val Loss: 0.096\n",
      "Epoch: 94, Train Loss: 0.137,  Val Loss: 0.098\n",
      "Epoch: 95, Train Loss: 0.137,  Val Loss: 0.096\n",
      "Epoch: 96, Train Loss: 0.137,  Val Loss: 0.096\n",
      "Epoch: 97, Train Loss: 0.138,  Val Loss: 0.096\n",
      "Epoch: 98, Train Loss: 0.137,  Val Loss: 0.096\n",
      "Epoch: 99, Train Loss: 0.137,  Val Loss: 0.096\n",
      "Epoch: 100, Train Loss: 0.137,  Val Loss: 0.096\n",
      "Epoch: 101, Train Loss: 0.137,  Val Loss: 0.096\n",
      "Epoch: 102, Train Loss: 0.137,  Val Loss: 0.096\n",
      "Epoch: 103, Train Loss: 0.137,  Val Loss: 0.096\n",
      "Epoch: 104, Train Loss: 0.137,  Val Loss: 0.096\n",
      "Epoch: 105, Train Loss: 0.138,  Val Loss: 0.096\n",
      "Epoch: 106, Train Loss: 0.138,  Val Loss: 0.096\n",
      "Epoch: 107, Train Loss: 0.137,  Val Loss: 0.096\n",
      "Epoch: 108, Train Loss: 0.137,  Val Loss: 0.100\n",
      "Epoch: 109, Train Loss: 0.137,  Val Loss: 0.096\n",
      "Epoch: 110, Train Loss: 0.137,  Val Loss: 0.096\n",
      "Epoch: 111, Train Loss: 0.137,  Val Loss: 0.096\n",
      "Epoch: 112, Train Loss: 0.138,  Val Loss: 0.096\n",
      "Epoch: 113, Train Loss: 0.138,  Val Loss: 0.097\n",
      "Epoch: 114, Train Loss: 0.137,  Val Loss: 0.096\n",
      "Epoch: 115, Train Loss: 0.137,  Val Loss: 0.096\n",
      "Epoch: 116, Train Loss: 0.137,  Val Loss: 0.096\n",
      "Epoch: 117, Train Loss: 0.137,  Val Loss: 0.096\n",
      "Epoch: 118, Train Loss: 0.137,  Val Loss: 0.096\n",
      "Epoch: 119, Train Loss: 0.138,  Val Loss: 0.096\n",
      "Epoch: 120, Train Loss: 0.137,  Val Loss: 0.096\n",
      "Epoch: 121, Train Loss: 0.137,  Val Loss: 0.096\n",
      "Epoch: 122, Train Loss: 0.137,  Val Loss: 0.096\n",
      "Epoch: 123, Train Loss: 0.137,  Val Loss: 0.096\n",
      "Epoch: 124, Train Loss: 0.137,  Val Loss: 0.096\n",
      "Epoch: 125, Train Loss: 0.137,  Val Loss: 0.096\n",
      "Epoch: 126, Train Loss: 0.137,  Val Loss: 0.096\n",
      "Epoch: 127, Train Loss: 0.137,  Val Loss: 0.099\n",
      "Epoch: 128, Train Loss: 0.137,  Val Loss: 0.096\n",
      "Epoch: 129, Train Loss: 0.137,  Val Loss: 0.096\n",
      "Epoch: 130, Train Loss: 0.137,  Val Loss: 0.096\n",
      "Epoch: 131, Train Loss: 0.137,  Val Loss: 0.096\n",
      "Epoch: 132, Train Loss: 0.137,  Val Loss: 0.096\n",
      "Epoch: 133, Train Loss: 0.137,  Val Loss: 0.096\n",
      "Epoch: 134, Train Loss: 0.137,  Val Loss: 0.096\n",
      "Epoch: 135, Train Loss: 0.137,  Val Loss: 0.096\n",
      "Epoch: 136, Train Loss: 0.137,  Val Loss: 0.096\n",
      "Epoch: 137, Train Loss: 0.137,  Val Loss: 0.096\n",
      "Epoch: 138, Train Loss: 0.137,  Val Loss: 0.096\n",
      "Epoch: 139, Train Loss: 0.137,  Val Loss: 0.096\n",
      "Epoch: 140, Train Loss: 0.137,  Val Loss: 0.096\n",
      "Epoch: 141, Train Loss: 0.139,  Val Loss: 0.096\n",
      "Epoch: 142, Train Loss: 0.137,  Val Loss: 0.096\n",
      "Epoch: 143, Train Loss: 0.137,  Val Loss: 0.096\n",
      "Epoch: 144, Train Loss: 0.138,  Val Loss: 0.096\n",
      "Epoch: 145, Train Loss: 0.137,  Val Loss: 0.098\n",
      "Epoch: 146, Train Loss: 0.139,  Val Loss: 0.096\n",
      "Epoch: 147, Train Loss: 0.137,  Val Loss: 0.096\n",
      "Epoch: 148, Train Loss: 0.138,  Val Loss: 0.096\n",
      "Epoch: 149, Train Loss: 0.137,  Val Loss: 0.096\n",
      "Epoch: 150, Train Loss: 0.137,  Val Loss: 0.096\n"
     ]
    }
   ],
   "source": [
    "# ToyMLP Inputs\n",
    "input_size = 2\n",
    "hidden_size = 512\n",
    "output_size = 1\n",
    "\n",
    "epochs = 150\n",
    "model = ProLSTM2(input_size, hidden_size, output_size).to(device)\n",
    "optimizer = optim.AdamW(model.parameters(), lr = 6e-3)\n",
    "scheduler = optim.lr_scheduler.StepLR(optimizer, step_size = 15, gamma = 0.1)\n",
    "loss_fn = nn.MSELoss()\n",
    "\n",
    "avg_train_loss, avg_val_loss = [], []\n",
    "for epoch in range(epochs):\n",
    "\n",
    "    # Train Loop\n",
    "    losses_train = []\n",
    "    model.train()\n",
    "    for inp, out in train_loader:\n",
    "\n",
    "        inp = inp.to(device)\n",
    "        out = out.to(device)\n",
    "\n",
    "        # Forward Pass\n",
    "        pred = model(inp)\n",
    "        loss = loss_fn(pred, out)\n",
    "\n",
    "        optimizer.zero_grad()\n",
    "        loss.backward()\n",
    "        optimizer.step()\n",
    "\n",
    "        losses_train.append(loss.detach().cpu().numpy())\n",
    "\n",
    "    # Val Loop\n",
    "    losses_val = []\n",
    "    model.eval()\n",
    "    for inp, out in val_loader:\n",
    "\n",
    "        inp = inp.to(device)\n",
    "        out = out.to(device)\n",
    "\n",
    "        # No Gradients\n",
    "        with torch.no_grad():\n",
    "            pred = model(inp)\n",
    "            test_loss = loss_fn(pred, out)\n",
    "\n",
    "        losses_val.append(test_loss.detach().cpu().numpy())\n",
    "\n",
    "    print(f\"Epoch: {epoch + 1}, Train Loss: {np.average(losses_train):.3f},  Val Loss: {np.average(losses_val):.3f}\")\n",
    "\n",
    "    scheduler.step()\n",
    "    avg_train_loss.append(np.average(losses_train)), avg_val_loss.append(np.average(losses_val))"
   ]
  },
  {
   "cell_type": "code",
   "execution_count": 13,
   "id": "c30493c2-60f5-4d0d-a419-ae08f483b6b7",
   "metadata": {},
   "outputs": [
    {
     "data": {
      "image/png": "[encoded data removed]",
      "text/plain": [
       "<Figure size 864x576 with 1 Axes>"
      ]
     },
     "metadata": {
      "needs_background": "light"
     },
     "output_type": "display_data"
    }
   ],
   "source": [
    "e = np.arange(epoch+1)\n",
    "\n",
    "plt.figure( figsize=(12, 8))\n",
    "plt.plot(e, np.array(avg_train_loss), label=\"Train Loss\", color=\"green\")\n",
    "plt.plot(e, np.array(avg_val_loss), label=\"Val Loss\", color=\"orange\")\n",
    "plt.legend(loc=1 ,prop={'size': 12})\n",
    "# plt.ylim([0, 30])\n",
    "plt.xlabel(\"Epochs\")\n",
    "plt.ylabel(\"Average Loss\")\n",
    "plt.show()"
   ]
  },
  {
   "cell_type": "code",
   "execution_count": 14,
   "id": "58b1d8c5-ea2d-476c-b3c5-e082118fdc8a",
   "metadata": {},
   "outputs": [
    {
     "name": "stdout",
     "output_type": "stream",
     "text": [
      "Test MSE Loss: 0.133\n"
     ]
    },
    {
     "data": {
      "text/plain": [
       "(torch.Size([5487, 3]),\n",
       " torch.Size([5487, 2]),\n",
       " torch.Size([5487, 1]),\n",
       " torch.Size([5487, 1]))"
      ]
     },
     "execution_count": 14,
     "metadata": {},
     "output_type": "execute_result"
    }
   ],
   "source": [
    "# Load the Test Dataset\n",
    "test_set = torch.from_numpy(test_data)\n",
    "\n",
    "# Feature and Ground Truth Matrix\n",
    "X = test_set[:, :-1].to(device)\n",
    "y = test_set[:, -1].reshape(-1, 1).to(device)\n",
    "\n",
    "# Inference\n",
    "with torch.no_grad():\n",
    "    model.eval()\n",
    "    test_pred = model(X)\n",
    "\n",
    "test_loss = loss_fn(test_pred, y)    \n",
    "\n",
    "print(f\"Test MSE Loss: {test_loss:.3f}\")\n",
    "\n",
    "test_set.shape, X.shape, y.shape, test_pred.shape"
   ]
  },
  {
   "cell_type": "code",
   "execution_count": 15,
   "id": "33326ba0-74e5-4f4f-a4c2-163bfc1c4446",
   "metadata": {},
   "outputs": [
    {
     "data": {
      "image/png": "[encoded data removed]",
      "text/plain": [
       "<Figure size 1296x864 with 1 Axes>"
      ]
     },
     "metadata": {
      "needs_background": "light"
     },
     "output_type": "display_data"
    }
   ],
   "source": [
    "t = np.linspace(0, X.shape[0], X.shape[0])*0.05\n",
    "\n",
    "# %matplotlib qt\n",
    "plt.figure( figsize=(18, 12))\n",
    "plt.plot(t, y.cpu().numpy(), label=\"Ground Truth\", color=\"blue\")\n",
    "plt.plot(t, test_pred.cpu().numpy(), label=\"Predictions\", color=\"orange\")\n",
    "plt.legend(loc=1 ,prop={'size': 12})\n",
    "plt.xlim(0, 5)\n",
    "# plt.ylim(-10, 10)\n",
    "plt.xlabel(\"t\")\n",
    "plt.ylabel(\"Vdot\")\n",
    "# plt.savefig(\"GRU Predictions.png\")\n",
    "plt.show()"
   ]
  },
  {
   "cell_type": "markdown",
   "id": "6c19a339-fb2e-497b-acd4-0abf03ed9497",
   "metadata": {},
   "source": [
    "### Two Baselines\n",
    "\n",
    "RNN Neural Network\n",
    "\n",
    "x1 = [ax1 ay1] at t1\n",
    "\n",
    "x1 -> h1 -> v1_hat (h0, v0) initial\n",
    "\n",
    "x2 -> h2 + h1 + v1_hat -> v2_hat and so on \n",
    "\n",
    "MSELoss (v_hat, v_gt)\n",
    "\n",
    "Approach 2: Map (ax, ay) -> v2 - v1 (Take Diff over the column)\n",
    "\n",
    "Discard the last row from the training set :)"
   ]
  }
 ],
 "metadata": {
  "kernelspec": {
   "display_name": "Python 3",
   "language": "python",
   "name": "python3"
  },
  "language_info": {
   "codemirror_mode": {
    "name": "ipython",
    "version": 3
   },
   "file_extension": ".py",
   "mimetype": "text/x-python",
   "name": "python",
   "nbconvert_exporter": "python",
   "pygments_lexer": "ipython3",
   "version": "3.8.12"
  }
 },
 "nbformat": 4,
 "nbformat_minor": 5
}
