{
 "cells": [
  {
   "cell_type": "code",
   "execution_count": 1,
   "id": "d8eb0e6d-5f5f-4cc8-bed5-fe390a1a6687",
   "metadata": {},
   "outputs": [],
   "source": [
    "import numpy as np \n",
    "import scipy.io as sio\n",
    "import matplotlib.pyplot as plt \n",
    "from sklearn.model_selection import train_test_split"
   ]
  },
  {
   "cell_type": "code",
   "execution_count": 2,
   "id": "95581bf4-8e36-4865-8a02-e2bf64899a74",
   "metadata": {},
   "outputs": [
    {
     "name": "stdout",
     "output_type": "stream",
     "text": [
      "(6112, 9)\n"
     ]
    },
    {
     "ename": "NameError",
     "evalue": "name 'kk' is not defined",
     "output_type": "error",
     "traceback": [
      "\u001b[0;31m---------------------------------------------------------------------------\u001b[0m",
      "\u001b[0;31mNameError\u001b[0m                                 Traceback (most recent call last)",
      "Input \u001b[0;32mIn [2]\u001b[0m, in \u001b[0;36m<cell line: 5>\u001b[0;34m()\u001b[0m\n\u001b[1;32m      2\u001b[0m data \u001b[38;5;241m=\u001b[39m sio\u001b[38;5;241m.\u001b[39mloadmat(\u001b[38;5;124m\"\u001b[39m\u001b[38;5;124m./New Dataset/smooth_traj_speed.mat\u001b[39m\u001b[38;5;124m\"\u001b[39m)[\u001b[38;5;124m\"\u001b[39m\u001b[38;5;124mtraining_matrix\u001b[39m\u001b[38;5;124m\"\u001b[39m]\n\u001b[1;32m      4\u001b[0m \u001b[38;5;28mprint\u001b[39m(data\u001b[38;5;241m.\u001b[39mshape)\n\u001b[0;32m----> 5\u001b[0m \u001b[38;5;28mprint\u001b[39m(\u001b[43mkk\u001b[49m)\n\u001b[1;32m      8\u001b[0m \u001b[38;5;66;03m# Feature Matrix - N x 44\u001b[39;00m\n\u001b[1;32m      9\u001b[0m X \u001b[38;5;241m=\u001b[39m data[:, :\u001b[38;5;241m-\u001b[39m\u001b[38;5;241m3\u001b[39m]\n",
      "\u001b[0;31mNameError\u001b[0m: name 'kk' is not defined"
     ]
    }
   ],
   "source": [
    "# Reading the Comp. Matrix - N x (D + y)\n",
    "data = sio.loadmat(\"./New Dataset/smooth_traj_speed.mat\")[\"training_matrix\"]\n",
    "\n",
    "print(data.shape)\n",
    "print(kk)\n",
    "\n",
    "\n",
    "# Feature Matrix - N x 44\n",
    "X = data[:, :-3]\n",
    "\n",
    "# Targets - N x 3\n",
    "y = data[:, -3:]\n",
    "\n",
    "# Normalization\n",
    "mu = X.mean()\n",
    "sigma = X.std()\n",
    "\n",
    "# Normalized Dataset\n",
    "X_norm = (X - mu) / sigma\n",
    "\n",
    "X_norm.shape, y.shape, mu, sigma"
   ]
  },
  {
   "cell_type": "code",
   "execution_count": null,
   "id": "66385173-7752-457d-abce-1ce77d6b3360",
   "metadata": {},
   "outputs": [],
   "source": [
    "X_train, X_test, y_train, y_test = train_test_split(X_norm, y, test_size=0.2, random_state=42)\n",
    "X_train, X_val, y_train, y_val = train_test_split(X_train, y_train, test_size=0.1, random_state=42)\n",
    "\n",
    "X_train.shape, X_val.shape, X_test.shape, y_train.shape, y_val.shape, y_test.shape"
   ]
  },
  {
   "cell_type": "code",
   "execution_count": null,
   "id": "b04c958f-ddd2-4b3e-a96a-669c7b4d1944",
   "metadata": {},
   "outputs": [],
   "source": [
    "train_data = np.concatenate((X_train, y_train), axis=1)\n",
    "val_data = np.concatenate((X_val, y_val), axis=1)\n",
    "test_data = np.concatenate((X_test, y_test), axis=1)\n",
    "\n",
    "train_data.shape, val_data.shape, test_data.shape"
   ]
  },
  {
   "cell_type": "code",
   "execution_count": null,
   "id": "7f0734a3-99d4-46c6-afd6-f3ba51a3012e",
   "metadata": {},
   "outputs": [],
   "source": [
    "np.save(\"./Dataset/train_28_03.npy\", train_data.astype(np.float32))\n",
    "np.save(\"./Dataset/val_28_03.npy\", val_data.astype(np.float32))\n",
    "np.save(\"./Dataset/test_28_03.npy\", test_data.astype(np.float32))"
   ]
  }
 ],
 "metadata": {
  "kernelspec": {
   "display_name": "Python 3 (ipykernel)",
   "language": "python",
   "name": "python3"
  },
  "language_info": {
   "codemirror_mode": {
    "name": "ipython",
    "version": 3
   },
   "file_extension": ".py",
   "mimetype": "text/x-python",
   "name": "python",
   "nbconvert_exporter": "python",
   "pygments_lexer": "ipython3",
   "version": "3.9.7"
  }
 },
 "nbformat": 4,
 "nbformat_minor": 5
}
