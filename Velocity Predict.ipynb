{
 "cells": [
  {
   "cell_type": "code",
   "execution_count": 9,
   "id": "3a9d265b-6d28-4922-962e-60038db48ab6",
   "metadata": {},
   "outputs": [],
   "source": [
    "import torch\n",
    "import torch.nn as nn\n",
    "import torch.optim as optim\n",
    "from torch.utils.data import Dataset, DataLoader\n",
    "from sklearn.model_selection import train_test_split\n",
    "\n",
    "import numpy as np \n",
    "import scipy.io as sio\n",
    "import matplotlib.pyplot as plt \n",
    "import seaborn as sns\n",
    "sns.set_theme()\n",
    "%matplotlib inline\n",
    "\n",
    "torch.manual_seed(42)\n",
    "torch.cuda.manual_seed_all(42)\n",
    "torch.set_default_dtype(torch.float32)"
   ]
  },
  {
   "cell_type": "code",
   "execution_count": 2,
   "id": "df9263ca-3559-45fc-a13d-ebebfda012ee",
   "metadata": {},
   "outputs": [
    {
     "data": {
      "text/plain": [
       "((27435, 2),\n",
       " (27435, 1),\n",
       " array([-0.00133139, -0.01226881]),\n",
       " array([0.33017364, 0.18843928]))"
      ]
     },
     "execution_count": 2,
     "metadata": {},
     "output_type": "execute_result"
    }
   ],
   "source": [
    "# Reading the Comp. Matrix - N x (D + y)\n",
    "data = sio.loadmat(\"./Custom Graph Dataset/No_nan_matrix.mat\")[\"training_matrix\"]\n",
    "\n",
    "# Feature Matrix - N x 2 (ax, ay)\n",
    "X = data[:, :-1]\n",
    "\n",
    "# Targets - N x 1 (vdot)\n",
    "y = data[:, -1][:, np.newaxis]\n",
    "\n",
    "# Normalization\n",
    "mu = X.mean(axis=0)\n",
    "sigma = X.std(axis=0)\n",
    "\n",
    "# Normalized Dataset\n",
    "X_norm = (X - mu) / sigma\n",
    "\n",
    "X_norm.shape, y.shape, mu, sigma"
   ]
  },
  {
   "cell_type": "code",
   "execution_count": 3,
   "id": "da347099-1b98-4e3b-b7ae-4b58cdaa0570",
   "metadata": {},
   "outputs": [
    {
     "data": {
      "text/plain": [
       "((19753, 2), (2195, 2), (5487, 2), (19753, 1), (2195, 1), (5487, 1))"
      ]
     },
     "execution_count": 3,
     "metadata": {},
     "output_type": "execute_result"
    }
   ],
   "source": [
    "X_train, X_test, y_train, y_test = train_test_split(X_norm, y, test_size=0.2, random_state=42)\n",
    "X_train, X_val, y_train, y_val = train_test_split(X_train, y_train, test_size=0.1, random_state=42)\n",
    "\n",
    "X_train.shape, X_val.shape, X_test.shape, y_train.shape, y_val.shape, y_test.shape"
   ]
  },
  {
   "cell_type": "code",
   "execution_count": 4,
   "id": "401614a1-4805-4513-8a86-60c75a1b56c9",
   "metadata": {},
   "outputs": [
    {
     "data": {
      "text/plain": [
       "((19753, 3), (2195, 3), (5487, 3))"
      ]
     },
     "execution_count": 4,
     "metadata": {},
     "output_type": "execute_result"
    }
   ],
   "source": [
    "train_data = np.concatenate((X_train, y_train), axis=1)\n",
    "val_data = np.concatenate((X_val, y_val), axis=1)\n",
    "test_data = np.concatenate((X_test, y_test), axis=1)\n",
    "\n",
    "train_data.shape, val_data.shape, test_data.shape"
   ]
  },
  {
   "cell_type": "code",
   "execution_count": 5,
   "id": "2ed081a9-f7f0-4482-8d08-da77f6dcff9b",
   "metadata": {},
   "outputs": [],
   "source": [
    "np.save(\"./Custom Graph Dataset/train_cg.npy\", train_data.astype(np.float32))\n",
    "np.save(\"./Custom Graph Dataset/val_cg.npy\", val_data.astype(np.float32))\n",
    "np.save(\"./Custom Graph Dataset/test_cg.npy\", test_data.astype(np.float32))"
   ]
  },
  {
   "cell_type": "code",
   "execution_count": 6,
   "id": "f5c32544-9815-48aa-95da-1699c6d05ee6",
   "metadata": {},
   "outputs": [
    {
     "name": "stdout",
     "output_type": "stream",
     "text": [
      "Using cuda device\n"
     ]
    }
   ],
   "source": [
    "device = torch.device(\"cuda\" if torch.cuda.is_available() else \"cpu\")\n",
    "print(f\"Using {device} device\")"
   ]
  },
  {
   "cell_type": "code",
   "execution_count": 7,
   "id": "e418e7c1-7ade-4954-8ca3-8d72b1786a75",
   "metadata": {},
   "outputs": [],
   "source": [
    "# Expressive GRU\n",
    "class ProGRU(nn.Module):\n",
    "    def __init__(self, input_size, hidden_size, output_size):\n",
    "        super(ProGRU, self).__init__()\n",
    "        self.lstm = nn.GRU(input_size=input_size, hidden_size=hidden_size, num_layers=2, bidirectional=True, batch_first=True)\n",
    "        self.linear1 = nn.Linear(hidden_size, hidden_size)\n",
    "        self.linear2 = nn.Linear(hidden_size, hidden_size)\n",
    "        self.linear3 = nn.Linear(hidden_size, output_size)\n",
    "        self.activation = nn.PReLU()\n",
    "    \n",
    "    def forward(self, x):\n",
    "        batch_size = x.shape[0]\n",
    "        out, hn = self.lstm(x.view(batch_size, 1, -1))\n",
    "        out = self.activation(self.linear1(hn[0])) # self.linear1(out)\n",
    "        out = self.activation(self.linear2(out))\n",
    "        out = self.linear3(out)\n",
    "        return out"
   ]
  },
  {
   "cell_type": "code",
   "execution_count": 15,
   "id": "8e5d54bc-df44-452f-9680-86a2ac5d4393",
   "metadata": {},
   "outputs": [],
   "source": [
    "# Custom Dataset Loader \n",
    "class TrajDataset(Dataset):\n",
    "    \"\"\"Expert Trajectory Dataset.\"\"\"\n",
    "    def __init__(self, data):\n",
    "        \n",
    "        # Inputs\n",
    "        self.x = data[:, :-1]\n",
    "        \n",
    "        # Output\n",
    "        self.y = data[:, -1]\n",
    "        \n",
    "        \n",
    "    def __len__(self):\n",
    "        return len(self.x)\n",
    "    \n",
    "    def __getitem__(self, idx):\n",
    "        \n",
    "        # Inputs\n",
    "        inp = self.x[idx]\n",
    "        inp = inp.flatten()\n",
    "        \n",
    "        # Outputs\n",
    "        out = self.y[idx]\n",
    "        out = out.flatten()\n",
    "        \n",
    "        return torch.tensor(inp).float(), torch.tensor(out).float()\n",
    "\n",
    "# Load the dataset\n",
    "train_data = np.load(\"./Custom Graph Dataset/train_cg.npy\")\n",
    "val_data = np.load(\"./Custom Graph Dataset/val_cg.npy\")\n",
    "test_data = np.load(\"./Custom Graph Dataset//test_cg.npy\")\n",
    "\n",
    "# Using PyTorch Dataloader\n",
    "train_dataset = TrajDataset(train_data)\n",
    "val_dataset = TrajDataset(val_data)\n",
    "test_dataset = TrajDataset(test_data)\n",
    "\n",
    "train_loader = DataLoader(train_dataset, batch_size=1, shuffle=False, num_workers=0)\n",
    "val_loader = DataLoader(val_dataset, batch_size=1, shuffle=False, num_workers=0)\n",
    "test_loader = DataLoader(test_dataset, batch_size=1, shuffle=False, num_workers=0)"
   ]
  },
  {
   "cell_type": "code",
   "execution_count": 16,
   "id": "6279de06-0c1e-4326-ad26-c29441c0b90d",
   "metadata": {},
   "outputs": [
    {
     "name": "stdout",
     "output_type": "stream",
     "text": [
      "torch.Size([1, 2]) torch.Size([1, 1])\n"
     ]
    }
   ],
   "source": [
    "for batch_num, (datas) in enumerate(train_loader):\n",
    "    inp, out = datas\n",
    "    print(inp.shape, out.shape)\n",
    "    break"
   ]
  },
  {
   "cell_type": "code",
   "execution_count": 18,
   "id": "92eb8114-7f97-4e8e-88d5-2772525f436b",
   "metadata": {},
   "outputs": [
    {
     "data": {
      "text/plain": [
       "19753"
      ]
     },
     "execution_count": 18,
     "metadata": {},
     "output_type": "execute_result"
    }
   ],
   "source": [
    "len(train_loader)"
   ]
  },
  {
   "cell_type": "code",
   "execution_count": null,
   "id": "a2cd5897-9283-4948-891a-f841aaf8ffff",
   "metadata": {},
   "outputs": [],
   "source": [
    " # GRU Inputs\n",
    "input_size = 2\n",
    "hidden_size = 256\n",
    "output_size = 1\n",
    "\n",
    "# FNN\n",
    "model = ProGRU(input_size, hidden_size, output_size).to(device)\n",
    "optimizer = optim.AdamW(model.parameters(), lr = 1e-4)\n",
    "loss_fn = nn.MSELoss()\n",
    "\n",
    "# Initial Velocity\n",
    "v = torch.zeros_like(len(train_loader), requires_grad=True).to(device)\n",
    "delta_t = 0.05\n",
    "\n",
    "epochs = 2\n",
    "avg_train_loss = []\n",
    "for epoch in range(epochs):\n",
    "    # Train Loop\n",
    "    losses_train = []\n",
    "    model.train()\n",
    "    for inp, out in train_loader:\n",
    "\n",
    "        inp = inp.to(device)\n",
    "        out = out.to(device)\n",
    "\n",
    "        # Forward Pass\n",
    "        pred = model(inp)\n",
    "        loss = loss_fn(pred, out)\n",
    "\n",
    "        optimizer.zero_grad()\n",
    "        loss.backward()\n",
    "        optimizer.step()\n",
    "\n",
    "        losses_train.append(loss.detach().cpu().numpy())\n",
    "        \n",
    "    print(f\"Epoch: {epoch + 1}, Train Loss: {np.average(losses_train):.3f}\")\n",
    "    avg_train_loss.append(np.average(losses_train))"
   ]
  },
  {
   "cell_type": "markdown",
   "id": "6c19a339-fb2e-497b-acd4-0abf03ed9497",
   "metadata": {},
   "source": [
    "### Two Baselines\n",
    "\n",
    "RNN Neural Network\n",
    "\n",
    "x1 = [ax1 ay1] at t1\n",
    "\n",
    "x1 -> h1 -> v1_hat (h0, v0) initial\n",
    "\n",
    "x2 -> h2 + h1 + v1_hat -> v2_hat and so on \n",
    "\n",
    "MSELoss (v_hat, v_gt)\n",
    "\n",
    "Approach 2: Map (ax, ay) -> v2 - v1 (Take Diff over the column)\n",
    "\n",
    "Discard the last row from the training set :)"
   ]
  }
 ],
 "metadata": {
  "kernelspec": {
   "display_name": "Python 3",
   "language": "python",
   "name": "python3"
  },
  "language_info": {
   "codemirror_mode": {
    "name": "ipython",
    "version": 3
   },
   "file_extension": ".py",
   "mimetype": "text/x-python",
   "name": "python",
   "nbconvert_exporter": "python",
   "pygments_lexer": "ipython3",
   "version": "3.8.12"
  }
 },
 "nbformat": 4,
 "nbformat_minor": 5
}
