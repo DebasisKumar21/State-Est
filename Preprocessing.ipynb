{
 "cells": [
  {
   "cell_type": "code",
   "execution_count": 67,
   "id": "b0e559a0-dd0c-4396-9f94-bac8755364a6",
   "metadata": {},
   "outputs": [],
   "source": [
    "import numpy as np \n",
    "import scipy.io as sio\n",
    "import matplotlib.pyplot as plt \n",
    "from sklearn.model_selection import train_test_split"
   ]
  },
  {
   "cell_type": "code",
   "execution_count": 68,
   "id": "1223420b-d295-4dc1-8b3e-260531cd135c",
   "metadata": {},
   "outputs": [
    {
     "data": {
      "text/plain": [
       "((26871, 18),\n",
       " (26871, 1),\n",
       " array([ 1.84585827e+00,  1.84671513e+00,  1.84761807e+00,  1.84844338e+00,\n",
       "        -5.01038567e-04, -5.94611942e-04, -6.54332642e-04, -7.26666017e-04,\n",
       "        -1.08912060e-02, -1.09482035e-02, -1.09776275e-02, -1.10313734e-02,\n",
       "         3.93584959e+00,  3.93592051e+00,  3.93598962e+00, -6.11364639e-01,\n",
       "        -6.11193833e-01, -6.11026788e-01]),\n",
       " array([1.68275469, 1.67926107, 1.67543387, 1.67166875, 0.33295965,\n",
       "        0.33276738, 0.33260605, 0.33251804, 0.18985753, 0.18979498,\n",
       "        0.18972114, 0.18962583, 2.20224022, 2.20217147, 2.20210617,\n",
       "        2.21325941, 2.21301375, 2.21277379]))"
      ]
     },
     "execution_count": 68,
     "metadata": {},
     "output_type": "execute_result"
    }
   ],
   "source": [
    "# Reading the Design Matrix - N x D + y\n",
    "filetype='_3_withpos'\n",
    "data = sio.loadmat(\"./Dataset/original_data\" + filetype +\".mat\")[\"training_matrix\"]\n",
    "\n",
    "# Feature Matrix - N x 24\n",
    "X = data[:, :-1]\n",
    "\n",
    "# Targets - N x 1\n",
    "y = data[:, -1][:, np.newaxis]\n",
    "\n",
    "# Normalization\n",
    "mu = X.mean(axis=0)\n",
    "sigma = X.std(axis=0)\n",
    "\n",
    "# Normalized Dataset\n",
    "X_norm = (X - mu) / sigma\n",
    "\n",
    "X_norm.shape, y.shape, mu, sigma"
   ]
  },
  {
   "cell_type": "code",
   "execution_count": 69,
   "id": "f807efb1-7355-4631-a283-cbc693ccb196",
   "metadata": {},
   "outputs": [
    {
     "data": {
      "text/plain": [
       "((19346, 18), (2150, 18), (5375, 18), (19346, 1), (2150, 1), (5375, 1))"
      ]
     },
     "execution_count": 69,
     "metadata": {},
     "output_type": "execute_result"
    }
   ],
   "source": [
    "X_train, X_test, y_train, y_test = train_test_split(X_norm, y, test_size=0.2, random_state=42)\n",
    "X_train, X_val, y_train, y_val = train_test_split(X_train, y_train, test_size=0.1, random_state=42)\n",
    "\n",
    "X_train.shape, X_val.shape, X_test.shape, y_train.shape, y_val.shape, y_test.shape"
   ]
  },
  {
   "cell_type": "code",
   "execution_count": 70,
   "id": "8278a26e-104d-4d2e-be12-c00d30745849",
   "metadata": {},
   "outputs": [
    {
     "data": {
      "text/plain": [
       "((19346, 19), (2150, 19), (5375, 19))"
      ]
     },
     "execution_count": 70,
     "metadata": {},
     "output_type": "execute_result"
    }
   ],
   "source": [
    "train_data = np.concatenate((X_train, y_train), axis=1)\n",
    "val_data = np.concatenate((X_val, y_val), axis=1)\n",
    "test_data = np.concatenate((X_test, y_test), axis=1)\n",
    "\n",
    "train_data.shape, val_data.shape, test_data.shape"
   ]
  },
  {
   "cell_type": "code",
   "execution_count": 71,
   "id": "6b510174-8356-41a7-ade1-3fbfd2d1473e",
   "metadata": {},
   "outputs": [],
   "source": [
    "np.save(\"./Dataset/train_data\" + filetype + \".npy\", train_data.astype(np.float32))\n",
    "np.save(\"./Dataset/val_data\" + filetype + \".npy\", val_data.astype(np.float32))\n",
    "np.save(\"./Dataset/test_data\" + filetype + \".npy\", test_data.astype(np.float32))"
   ]
  },
  {
   "cell_type": "code",
   "execution_count": 72,
   "id": "5c24dd46-f24e-4f06-af71-5fd1dd0e9cdf",
   "metadata": {},
   "outputs": [
    {
     "data": {
      "text/plain": [
       "(array([-1.09692653, -1.0997189 , -1.10276992, -1.1057474 , -0.09243878,\n",
       "        -0.11074749, -0.12110687, -0.12929152, -0.50917426, -0.5027649 ,\n",
       "        -0.51625497, -0.4789833 ,  0.55554177,  0.55552192,  0.55551014,\n",
       "        -0.99825317, -0.99845232, -0.99862853]),\n",
       " array([-0.00079261]))"
      ]
     },
     "execution_count": 72,
     "metadata": {},
     "output_type": "execute_result"
    }
   ],
   "source": [
    "X_norm[0], y[0]"
   ]
  },
  {
   "cell_type": "code",
   "execution_count": 73,
   "id": "774dddf5-a992-4aee-8dbd-eae8c8d57a9a",
   "metadata": {},
   "outputs": [
    {
     "data": {
      "text/plain": [
       "array([ 0.00000000e+000,  4.50813698e-183, -1.04241146e-183,\n",
       "       -3.21553395e-180, -3.12794213e-002, -3.74477627e-002,\n",
       "       -4.09352111e-002, -4.37184301e-002, -1.07561772e-001,\n",
       "       -1.06370456e-001, -1.08922111e-001, -1.01858977e-001,\n",
       "        5.15928602e+000,  5.15927503e+000,  5.15928192e+000,\n",
       "       -2.82075787e+000, -2.82078255e+000, -2.82076583e+000,\n",
       "       -7.92613226e-004])"
      ]
     },
     "execution_count": 73,
     "metadata": {},
     "output_type": "execute_result"
    }
   ],
   "source": [
    "data[0]"
   ]
  },
  {
   "cell_type": "code",
   "execution_count": 74,
   "id": "402419fb-9ae0-46d7-966b-adcf0dc61dc6",
   "metadata": {},
   "outputs": [
    {
     "data": {
      "image/png": "[encoded data removed]",
      "text/plain": [
       "<Figure size 432x288 with 1 Axes>"
      ]
     },
     "metadata": {
      "needs_background": "light"
     },
     "output_type": "display_data"
    }
   ],
   "source": [
    "t = np.linspace(0, 1, X.shape[0])\n",
    "plt.plot(t, y)\n",
    "plt.show()"
   ]
  }
 ],
 "metadata": {
  "kernelspec": {
   "display_name": "Python 3",
   "language": "python",
   "name": "python3"
  },
  "language_info": {
   "codemirror_mode": {
    "name": "ipython",
    "version": 3
   },
   "file_extension": ".py",
   "mimetype": "text/x-python",
   "name": "python",
   "nbconvert_exporter": "python",
   "pygments_lexer": "ipython3",
   "version": "3.8.12"
  }
 },
 "nbformat": 4,
 "nbformat_minor": 5
}
